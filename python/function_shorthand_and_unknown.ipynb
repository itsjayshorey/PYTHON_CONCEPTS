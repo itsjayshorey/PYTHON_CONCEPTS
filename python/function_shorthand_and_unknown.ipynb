{
 "cells": [
  {
   "cell_type": "code",
   "execution_count": 2,
   "id": "89e5193b-c119-4bb6-92a3-d58f12bc0129",
   "metadata": {},
   "outputs": [
    {
     "data": {
      "text/plain": [
       "12"
      ]
     },
     "execution_count": 2,
     "metadata": {},
     "output_type": "execute_result"
    }
   ],
   "source": [
    "multiply_by_3=lambda x:x*3\n",
    "multiply_by_3(4)"
   ]
  },
  {
   "cell_type": "code",
   "execution_count": 3,
   "id": "1192b9c6-bf9a-4783-abad-bb03c9fcc0fe",
   "metadata": {},
   "outputs": [
    {
     "data": {
      "text/plain": [
       "20"
      ]
     },
     "execution_count": 3,
     "metadata": {},
     "output_type": "execute_result"
    }
   ],
   "source": [
    "multiply_two_num=lambda x, y :x*y\n",
    "multiply_two_num(4,5)"
   ]
  },
  {
   "cell_type": "code",
   "execution_count": 6,
   "id": "b4b427b2-8861-4ef8-b1d2-4024d38cfd29",
   "metadata": {},
   "outputs": [],
   "source": [
    "def submission(*args):# This is for when the number of arguments are not known\n",
    "    print(args)\n",
    "    return(sum(args))"
   ]
  },
  {
   "cell_type": "code",
   "execution_count": 7,
   "id": "f713d348-1b86-444a-a69b-aaa1e8a002ed",
   "metadata": {},
   "outputs": [
    {
     "name": "stdout",
     "output_type": "stream",
     "text": [
      "(1, 2, 4, 5, 6, 7)\n"
     ]
    },
    {
     "data": {
      "text/plain": [
       "25"
      ]
     },
     "execution_count": 7,
     "metadata": {},
     "output_type": "execute_result"
    }
   ],
   "source": [
    "submission(1,2,4,5,6,7)"
   ]
  },
  {
   "cell_type": "code",
   "execution_count": null,
   "id": "57bdbb29-21f9-4c6c-a309-6850a80ee2b8",
   "metadata": {},
   "outputs": [],
   "source": []
  }
 ],
 "metadata": {
  "kernelspec": {
   "display_name": "Python 3 (ipykernel)",
   "language": "python",
   "name": "python3"
  },
  "language_info": {
   "codemirror_mode": {
    "name": "ipython",
    "version": 3
   },
   "file_extension": ".py",
   "mimetype": "text/x-python",
   "name": "python",
   "nbconvert_exporter": "python",
   "pygments_lexer": "ipython3",
   "version": "3.12.7"
  }
 },
 "nbformat": 4,
 "nbformat_minor": 5
}

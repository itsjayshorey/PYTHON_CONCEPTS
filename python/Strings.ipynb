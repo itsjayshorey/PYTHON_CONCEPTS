{
 "cells": [
  {
   "cell_type": "code",
   "execution_count": 1,
   "id": "be2999b6-4a85-4ce7-aa30-828fd887a086",
   "metadata": {},
   "outputs": [
    {
     "data": {
      "text/plain": [
       "('hello', 'Jay')"
      ]
     },
     "execution_count": 1,
     "metadata": {},
     "output_type": "execute_result"
    }
   ],
   "source": [
    "x= \"hello\"\n",
    "y= \"Jay\"\n",
    "x,y"
   ]
  },
  {
   "cell_type": "code",
   "execution_count": 2,
   "id": "92b24ae8-f9d6-4cbf-bddd-42af6dda8180",
   "metadata": {},
   "outputs": [
    {
     "data": {
      "text/plain": [
       "5"
      ]
     },
     "execution_count": 2,
     "metadata": {},
     "output_type": "execute_result"
    }
   ],
   "source": [
    "len(x)"
   ]
  },
  {
   "cell_type": "code",
   "execution_count": 4,
   "id": "25088c71-4aab-4218-9f32-b7e265a261ed",
   "metadata": {},
   "outputs": [
    {
     "data": {
      "text/plain": [
       "3"
      ]
     },
     "execution_count": 4,
     "metadata": {},
     "output_type": "execute_result"
    }
   ],
   "source": [
    "len(y)"
   ]
  },
  {
   "cell_type": "code",
   "execution_count": 5,
   "id": "43b41e31-4e67-415d-8f88-becac4663bbd",
   "metadata": {},
   "outputs": [
    {
     "data": {
      "text/plain": [
       "'HELLO'"
      ]
     },
     "execution_count": 5,
     "metadata": {},
     "output_type": "execute_result"
    }
   ],
   "source": [
    "x.upper()"
   ]
  },
  {
   "cell_type": "code",
   "execution_count": 6,
   "id": "5501adc3-f582-4f31-a011-2e003dd9b114",
   "metadata": {},
   "outputs": [
    {
     "data": {
      "text/plain": [
       "'jay'"
      ]
     },
     "execution_count": 6,
     "metadata": {},
     "output_type": "execute_result"
    }
   ],
   "source": [
    "y.lower()"
   ]
  },
  {
   "cell_type": "code",
   "execution_count": 8,
   "id": "1f82ff1f-a6d0-46f6-b573-311f9e48dcb4",
   "metadata": {},
   "outputs": [],
   "source": [
    "sentence = x+\" \"+y"
   ]
  },
  {
   "cell_type": "code",
   "execution_count": 9,
   "id": "2ff021d8-6fe6-4bc8-a191-6e8097426870",
   "metadata": {},
   "outputs": [
    {
     "name": "stdout",
     "output_type": "stream",
     "text": [
      "hello Jay\n"
     ]
    }
   ],
   "source": [
    "print(sentence.rstrip())"
   ]
  },
  {
   "cell_type": "code",
   "execution_count": 10,
   "id": "afb78bd9-9782-4108-835f-4093498b4c24",
   "metadata": {},
   "outputs": [],
   "source": [
    "increment = \"4%\""
   ]
  },
  {
   "cell_type": "code",
   "execution_count": 18,
   "id": "6e0b287b-b99c-47a2-b121-d6c671da7bef",
   "metadata": {},
   "outputs": [
    {
     "name": "stdout",
     "output_type": "stream",
     "text": [
      "4\n"
     ]
    }
   ],
   "source": [
    "print(increment.rstrip('%'))"
   ]
  },
  {
   "cell_type": "code",
   "execution_count": 22,
   "id": "ce13617e-663e-42f2-a0e2-61a16e17f94a",
   "metadata": {},
   "outputs": [
    {
     "name": "stdout",
     "output_type": "stream",
     "text": [
      "        hello Jay\n",
      "hello Jay\n"
     ]
    }
   ],
   "source": [
    "sentence=\"    \"+sentence\n",
    "print(sentence)\n",
    "print(sentence.lstrip())"
   ]
  },
  {
   "cell_type": "code",
   "execution_count": 23,
   "id": "22bc7871-7320-45ab-94f5-b06c1e52c3ee",
   "metadata": {},
   "outputs": [
    {
     "name": "stdout",
     "output_type": "stream",
     "text": [
      "        hello Jay\n"
     ]
    }
   ],
   "source": [
    "print(sentence.rstrip())"
   ]
  },
  {
   "cell_type": "code",
   "execution_count": 24,
   "id": "dbd1e327-0592-483d-9b74-e6635bdcf1cd",
   "metadata": {},
   "outputs": [
    {
     "name": "stdout",
     "output_type": "stream",
     "text": [
      "hello Jay\n"
     ]
    }
   ],
   "source": [
    "print(sentence.lstrip(' '))"
   ]
  },
  {
   "cell_type": "code",
   "execution_count": 25,
   "id": "5605c16b-5721-4d7a-b223-426fa5fb41bd",
   "metadata": {},
   "outputs": [
    {
     "name": "stdout",
     "output_type": "stream",
     "text": [
      "4\n"
     ]
    }
   ],
   "source": [
    "val = \"4 apples\"\n",
    "print(val[0])"
   ]
  },
  {
   "cell_type": "code",
   "execution_count": 26,
   "id": "94d965fb-72f8-40af-8e99-5052f47f263c",
   "metadata": {},
   "outputs": [
    {
     "name": "stdout",
     "output_type": "stream",
     "text": [
      "apples\n"
     ]
    }
   ],
   "source": [
    "what = val[2:]\n",
    "print(what)"
   ]
  },
  {
   "cell_type": "code",
   "execution_count": 28,
   "id": "75dd33c2-ded7-4c3f-b96e-926d82eea2d1",
   "metadata": {},
   "outputs": [
    {
     "data": {
      "text/plain": [
       "'$#@pples'"
      ]
     },
     "execution_count": 28,
     "metadata": {},
     "output_type": "execute_result"
    }
   ],
   "source": [
    "what.replace(\"a\",\"$#@\")"
   ]
  },
  {
   "cell_type": "code",
   "execution_count": 30,
   "id": "6ff54d83-88a3-47b4-a41c-cdd9276b178e",
   "metadata": {},
   "outputs": [
    {
     "data": {
      "text/plain": [
       "'        he'"
      ]
     },
     "execution_count": 30,
     "metadata": {},
     "output_type": "execute_result"
    }
   ],
   "source": [
    "sentence[:10]"
   ]
  },
  {
   "cell_type": "code",
   "execution_count": 31,
   "id": "a10db55a-609f-486c-8c99-f0a979421643",
   "metadata": {},
   "outputs": [
    {
     "data": {
      "text/plain": [
       "'llo J'"
      ]
     },
     "execution_count": 31,
     "metadata": {},
     "output_type": "execute_result"
    }
   ],
   "source": [
    "sentence[10:-2]"
   ]
  },
  {
   "cell_type": "code",
   "execution_count": 33,
   "id": "1839f0c2-587b-473c-9057-fd69f8ca48f4",
   "metadata": {},
   "outputs": [
    {
     "data": {
      "text/plain": [
       "'hloJy'"
      ]
     },
     "execution_count": 33,
     "metadata": {},
     "output_type": "execute_result"
    }
   ],
   "source": [
    "sentence[8::2]"
   ]
  },
  {
   "cell_type": "code",
   "execution_count": 37,
   "id": "3a8f7ca6-8c85-4ea8-8ec2-a41ec6581769",
   "metadata": {},
   "outputs": [
    {
     "data": {
      "text/plain": [
       "'Hello jay'"
      ]
     },
     "execution_count": 37,
     "metadata": {},
     "output_type": "execute_result"
    }
   ],
   "source": [
    "sentence.lstrip().capitalize()"
   ]
  },
  {
   "cell_type": "code",
   "execution_count": 39,
   "id": "4c15d7c5-a82b-4cf6-91ce-8c6dbe6ed271",
   "metadata": {},
   "outputs": [],
   "source": [
    "age = 20\n",
    "my_age = \"I am Jay Shorey and I am {0} years old\".format(age)"
   ]
  },
  {
   "cell_type": "code",
   "execution_count": 40,
   "id": "42c3dd7c-c835-409b-a73d-d2705b500e1c",
   "metadata": {},
   "outputs": [
    {
     "data": {
      "text/plain": [
       "'I am Jay Shorey and I am 20 years old'"
      ]
     },
     "execution_count": 40,
     "metadata": {},
     "output_type": "execute_result"
    }
   ],
   "source": [
    "my_age"
   ]
  },
  {
   "cell_type": "code",
   "execution_count": 42,
   "id": "8d1d228a-40c8-4d29-a5cc-1f08d9fa447d",
   "metadata": {},
   "outputs": [
    {
     "name": "stdout",
     "output_type": "stream",
     "text": [
      "Data analytics or science using Numpy\n"
     ]
    }
   ],
   "source": [
    "A=\"Data analytics\"\n",
    "B=\"or science\"\n",
    "C=\"Numpy\"\n",
    "print(\"{0} {1} using {2}\".format(A,B,C))"
   ]
  },
  {
   "cell_type": "code",
   "execution_count": 44,
   "id": "72a796b3-83f7-461a-912d-20e39ed69cc1",
   "metadata": {},
   "outputs": [
    {
     "data": {
      "text/plain": [
       "False"
      ]
     },
     "execution_count": 44,
     "metadata": {},
     "output_type": "execute_result"
    }
   ],
   "source": [
    "x=\"jay\"\n",
    "x in sentence"
   ]
  },
  {
   "cell_type": "code",
   "execution_count": 45,
   "id": "62e44bba-fe9a-40a6-b4d1-4c6ff268354b",
   "metadata": {},
   "outputs": [
    {
     "data": {
      "text/plain": [
       "True"
      ]
     },
     "execution_count": 45,
     "metadata": {},
     "output_type": "execute_result"
    }
   ],
   "source": [
    "\"   \" in sentence"
   ]
  },
  {
   "cell_type": "code",
   "execution_count": 47,
   "id": "c7cff33a-849b-4dc9-b735-e263e4a23330",
   "metadata": {},
   "outputs": [
    {
     "data": {
      "text/plain": [
       "True"
      ]
     },
     "execution_count": 47,
     "metadata": {},
     "output_type": "execute_result"
    }
   ],
   "source": [
    "\"hello\" in sentence"
   ]
  },
  {
   "cell_type": "code",
   "execution_count": 50,
   "id": "91e438b4-518b-4714-a3ca-1b21108dc5e8",
   "metadata": {},
   "outputs": [
    {
     "data": {
      "text/plain": [
       "True"
      ]
     },
     "execution_count": 50,
     "metadata": {},
     "output_type": "execute_result"
    }
   ],
   "source": [
    "\"Jay\" in sentence ### Case sensitive"
   ]
  },
  {
   "cell_type": "code",
   "execution_count": null,
   "id": "5d1c517d-b85a-4279-b40b-7face14824c6",
   "metadata": {},
   "outputs": [],
   "source": []
  }
 ],
 "metadata": {
  "kernelspec": {
   "display_name": "Python 3 (ipykernel)",
   "language": "python",
   "name": "python3"
  },
  "language_info": {
   "codemirror_mode": {
    "name": "ipython",
    "version": 3
   },
   "file_extension": ".py",
   "mimetype": "text/x-python",
   "name": "python",
   "nbconvert_exporter": "python",
   "pygments_lexer": "ipython3",
   "version": "3.12.7"
  }
 },
 "nbformat": 4,
 "nbformat_minor": 5
}

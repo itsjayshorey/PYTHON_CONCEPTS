{
 "cells": [
  {
   "cell_type": "markdown",
   "id": "3e7b4cef-e6f7-4a1e-b3f8-4b3e5e92257d",
   "metadata": {},
   "source": [
    "## Tupples are something which will not allow to modify it thatis immutable"
   ]
  },
  {
   "cell_type": "markdown",
   "id": "272ea0b5-2e4e-47a2-8233-9ee08faba0c8",
   "metadata": {},
   "source": [
    "Tupples are marked by ()"
   ]
  },
  {
   "cell_type": "code",
   "execution_count": 10,
   "id": "c4576a77-a105-4147-8aea-14357bb0fb22",
   "metadata": {},
   "outputs": [],
   "source": [
    "first =(30,'Jay Shorey',5.8)"
   ]
  },
  {
   "cell_type": "code",
   "execution_count": 11,
   "id": "a2413195-7949-4053-87ba-3a11a5c8a6df",
   "metadata": {},
   "outputs": [
    {
     "name": "stdout",
     "output_type": "stream",
     "text": [
      "Jay Shorey\n"
     ]
    }
   ],
   "source": [
    "print(first[1])"
   ]
  },
  {
   "cell_type": "code",
   "execution_count": 12,
   "id": "279353ad-273f-405e-b9f0-37358fae2294",
   "metadata": {},
   "outputs": [
    {
     "data": {
      "text/plain": [
       "tuple"
      ]
     },
     "execution_count": 12,
     "metadata": {},
     "output_type": "execute_result"
    }
   ],
   "source": [
    "type(first)"
   ]
  },
  {
   "cell_type": "code",
   "execution_count": 13,
   "id": "7790f26e-2cfb-4be1-b78b-7cbaaaeab557",
   "metadata": {},
   "outputs": [
    {
     "name": "stdout",
     "output_type": "stream",
     "text": [
      "('Bangalore', 28.9949521, 72)\n"
     ]
    }
   ],
   "source": [
    "city = (\"Bangalore\",28.9949521, 72)\n",
    "print(city)"
   ]
  },
  {
   "cell_type": "code",
   "execution_count": 14,
   "id": "59884dc9-70eb-4f94-a433-19531eb096df",
   "metadata": {},
   "outputs": [],
   "source": [
    "new=city"
   ]
  },
  {
   "cell_type": "code",
   "execution_count": 15,
   "id": "e3c8ad95-2371-4928-b824-9c855ac3560a",
   "metadata": {},
   "outputs": [
    {
     "name": "stdout",
     "output_type": "stream",
     "text": [
      "('Bangalore', 28.9949521, 72)\n"
     ]
    }
   ],
   "source": [
    "print(new)"
   ]
  },
  {
   "cell_type": "code",
   "execution_count": 16,
   "id": "1dd55ed9-71f7-4e9e-b980-e66abb2026f0",
   "metadata": {},
   "outputs": [
    {
     "data": {
      "text/plain": [
       "2523154216832"
      ]
     },
     "execution_count": 16,
     "metadata": {},
     "output_type": "execute_result"
    }
   ],
   "source": [
    "id(city)"
   ]
  },
  {
   "cell_type": "code",
   "execution_count": 17,
   "id": "d1d2912b-4ab1-4bf7-a31c-bcf068ea366d",
   "metadata": {},
   "outputs": [
    {
     "data": {
      "text/plain": [
       "2523154216832"
      ]
     },
     "execution_count": 17,
     "metadata": {},
     "output_type": "execute_result"
    }
   ],
   "source": [
    "id(new)"
   ]
  },
  {
   "cell_type": "markdown",
   "id": "ce0f30cc-8d7f-47f5-94b5-7a242c08185b",
   "metadata": {},
   "source": [
    "in tupple also address kis copied"
   ]
  },
  {
   "cell_type": "code",
   "execution_count": 18,
   "id": "03818a57-e401-4926-b59a-5b844a7a89b0",
   "metadata": {},
   "outputs": [
    {
     "data": {
      "text/plain": [
       "tuple"
      ]
     },
     "execution_count": 18,
     "metadata": {},
     "output_type": "execute_result"
    }
   ],
   "source": [
    "type(new)"
   ]
  },
  {
   "cell_type": "code",
   "execution_count": 21,
   "id": "2427093a-465c-48a7-88fc-920b1cc25f6e",
   "metadata": {},
   "outputs": [],
   "source": [
    "# new[1]=4"
   ]
  },
  {
   "cell_type": "code",
   "execution_count": 23,
   "id": "0d630cbb-0040-44fd-a2cd-e58341877da5",
   "metadata": {},
   "outputs": [
    {
     "data": {
      "text/plain": [
       "(123, 543, 'hello!')"
      ]
     },
     "execution_count": 23,
     "metadata": {},
     "output_type": "execute_result"
    }
   ],
   "source": [
    "new1 = 123,543, 'hello!'\n",
    "new1"
   ]
  },
  {
   "cell_type": "code",
   "execution_count": 25,
   "id": "f0600331-1337-478a-80cf-747d8814873b",
   "metadata": {},
   "outputs": [
    {
     "data": {
      "text/plain": [
       "((123, 543, 'hello!'), (1, 2, 3, 4, 5))"
      ]
     },
     "execution_count": 25,
     "metadata": {},
     "output_type": "execute_result"
    }
   ],
   "source": [
    "new2= new1,(1,2,3,4,5)\n",
    "new2"
   ]
  },
  {
   "cell_type": "code",
   "execution_count": null,
   "id": "fd36470e-e0d1-4832-a007-dbd003fa3e01",
   "metadata": {},
   "outputs": [],
   "source": []
  },
  {
   "cell_type": "code",
   "execution_count": 30,
   "id": "5de9423e-33a1-4108-bb86-9ce1de8f3abb",
   "metadata": {},
   "outputs": [],
   "source": [
    "# new2[0][0]=\"548\""
   ]
  },
  {
   "cell_type": "code",
   "execution_count": 31,
   "id": "34350f03-7f17-4889-94eb-dd58de24ca7a",
   "metadata": {},
   "outputs": [],
   "source": [
    "var1=([1,2,3],[4,5,6])"
   ]
  },
  {
   "cell_type": "code",
   "execution_count": 32,
   "id": "bcebeffe-0677-4e56-bb3b-b9e93008d003",
   "metadata": {},
   "outputs": [],
   "source": [
    "var1[0][0]=485"
   ]
  },
  {
   "cell_type": "code",
   "execution_count": 33,
   "id": "484c9008-632f-49c6-a773-9d02ba2ea034",
   "metadata": {},
   "outputs": [
    {
     "data": {
      "text/plain": [
       "([485, 2, 3], [4, 5, 6])"
      ]
     },
     "execution_count": 33,
     "metadata": {},
     "output_type": "execute_result"
    }
   ],
   "source": [
    "var1"
   ]
  },
  {
   "cell_type": "markdown",
   "id": "fe8409a8-241e-4703-b408-42a16895b592",
   "metadata": {},
   "source": [
    "## Here we are updating the list inside the tupple"
   ]
  },
  {
   "cell_type": "code",
   "execution_count": null,
   "id": "58aef970-f520-4b70-a888-836d2d738e4e",
   "metadata": {},
   "outputs": [],
   "source": []
  }
 ],
 "metadata": {
  "kernelspec": {
   "display_name": "Python 3 (ipykernel)",
   "language": "python",
   "name": "python3"
  },
  "language_info": {
   "codemirror_mode": {
    "name": "ipython",
    "version": 3
   },
   "file_extension": ".py",
   "mimetype": "text/x-python",
   "name": "python",
   "nbconvert_exporter": "python",
   "pygments_lexer": "ipython3",
   "version": "3.12.7"
  }
 },
 "nbformat": 4,
 "nbformat_minor": 5
}

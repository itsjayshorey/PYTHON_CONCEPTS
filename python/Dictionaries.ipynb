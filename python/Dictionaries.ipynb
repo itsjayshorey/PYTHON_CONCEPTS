{
 "cells": [
  {
   "cell_type": "code",
   "execution_count": 1,
   "id": "ba4d45cb-f118-441f-8adf-912a61e7dc97",
   "metadata": {},
   "outputs": [],
   "source": [
    "empty_dic = {}"
   ]
  },
  {
   "cell_type": "code",
   "execution_count": 2,
   "id": "95b81ec4-0406-4d0a-9e4f-65e8a94fab99",
   "metadata": {},
   "outputs": [
    {
     "data": {
      "text/plain": [
       "dict"
      ]
     },
     "execution_count": 2,
     "metadata": {},
     "output_type": "execute_result"
    }
   ],
   "source": [
    "type(empty_dic)"
   ]
  },
  {
   "cell_type": "code",
   "execution_count": 3,
   "id": "55d935ba-6f46-4009-8b2b-979d17b04876",
   "metadata": {},
   "outputs": [],
   "source": [
    "set_1={'A'}"
   ]
  },
  {
   "cell_type": "code",
   "execution_count": 4,
   "id": "38cd810f-f730-424e-a760-0c519093ef4f",
   "metadata": {},
   "outputs": [
    {
     "data": {
      "text/plain": [
       "set"
      ]
     },
     "execution_count": 4,
     "metadata": {},
     "output_type": "execute_result"
    }
   ],
   "source": [
    "type(set_1)"
   ]
  },
  {
   "cell_type": "code",
   "execution_count": 7,
   "id": "c440afb5-54fe-45cc-9e3a-3f4603ba25ad",
   "metadata": {},
   "outputs": [],
   "source": [
    "d= {\"actor\":\"amir\", \"animal\":\"cat\",\"earth\":2,\"list\":[23,32,12]}"
   ]
  },
  {
   "cell_type": "code",
   "execution_count": 8,
   "id": "9c2fe36b-231e-40f6-8099-d43e7623a054",
   "metadata": {},
   "outputs": [],
   "source": [
    "actor=d['actor']"
   ]
  },
  {
   "cell_type": "code",
   "execution_count": 9,
   "id": "f0383bb9-8826-45a7-b391-9618ff691b31",
   "metadata": {},
   "outputs": [
    {
     "data": {
      "text/plain": [
       "'amir'"
      ]
     },
     "execution_count": 9,
     "metadata": {},
     "output_type": "execute_result"
    }
   ],
   "source": [
    "actor"
   ]
  },
  {
   "cell_type": "code",
   "execution_count": 10,
   "id": "0a809e83-01ed-442c-ba4b-5fd44c843569",
   "metadata": {},
   "outputs": [],
   "source": [
    "age = d.get('list')"
   ]
  },
  {
   "cell_type": "code",
   "execution_count": 11,
   "id": "336b9f82-9f24-4483-9cb9-e3e2eaa61353",
   "metadata": {},
   "outputs": [
    {
     "name": "stdout",
     "output_type": "stream",
     "text": [
      "[23, 32, 12]\n"
     ]
    }
   ],
   "source": [
    "print(age)"
   ]
  },
  {
   "cell_type": "code",
   "execution_count": 12,
   "id": "b9fb3e85-0ae0-40e3-adc0-e0598e48d45d",
   "metadata": {},
   "outputs": [],
   "source": [
    "d['earth'] = 36"
   ]
  },
  {
   "cell_type": "code",
   "execution_count": 14,
   "id": "089e4bd2-1ad8-40f7-ae76-d0a45a27397c",
   "metadata": {},
   "outputs": [
    {
     "name": "stdout",
     "output_type": "stream",
     "text": [
      "{'actor': 'amir', 'animal': 'cat', 'earth': 36, 'list': [23, 32, 12]}\n"
     ]
    }
   ],
   "source": [
    "print(d)"
   ]
  },
  {
   "cell_type": "code",
   "execution_count": 15,
   "id": "85f45a36-3332-48e7-8f81-cf8c92e21efa",
   "metadata": {},
   "outputs": [
    {
     "name": "stdout",
     "output_type": "stream",
     "text": [
      "True\n"
     ]
    }
   ],
   "source": [
    "print('actor' in d)"
   ]
  },
  {
   "cell_type": "code",
   "execution_count": 17,
   "id": "82048146-59a3-4889-ace4-82fd85777f12",
   "metadata": {},
   "outputs": [
    {
     "data": {
      "text/plain": [
       "dict_keys(['actor', 'animal', 'earth', 'list'])"
      ]
     },
     "execution_count": 17,
     "metadata": {},
     "output_type": "execute_result"
    }
   ],
   "source": [
    "d.keys()"
   ]
  },
  {
   "cell_type": "code",
   "execution_count": 18,
   "id": "3a842eb3-32b0-42c3-835c-53b7e605c44e",
   "metadata": {},
   "outputs": [
    {
     "data": {
      "text/plain": [
       "dict_values(['amir', 'cat', 36, [23, 32, 12]])"
      ]
     },
     "execution_count": 18,
     "metadata": {},
     "output_type": "execute_result"
    }
   ],
   "source": [
    "d.values()"
   ]
  },
  {
   "cell_type": "code",
   "execution_count": 23,
   "id": "5aa09fe3-7c21-426d-b7ac-b83ca53997b0",
   "metadata": {},
   "outputs": [],
   "source": [
    "new = dict(Country=\"Honey singh\", Songs=['Blue Eyes','night party'])"
   ]
  },
  {
   "cell_type": "code",
   "execution_count": 30,
   "id": "62b746ee-a344-4c40-84e2-14cdf73395f8",
   "metadata": {},
   "outputs": [
    {
     "name": "stdout",
     "output_type": "stream",
     "text": [
      "{'actor': 'amir', 'animal': 'cat', 'earth': 36, 'list': [23, 32, 12], 'Country': 'Honey singh', 'Songs': ['Blue Eyes', 'night party']}\n"
     ]
    }
   ],
   "source": [
    "d.update(new)\n",
    "print(d)"
   ]
  },
  {
   "cell_type": "code",
   "execution_count": 31,
   "id": "76f3b0b6-1e5d-4bb5-9be6-323c30255245",
   "metadata": {},
   "outputs": [
    {
     "name": "stdout",
     "output_type": "stream",
     "text": [
      "{'actor': 'amir', 'animal': 'cat', 'earth': 36, 'list': [23, 32, 12], 'Country': 'Honey singh'}\n"
     ]
    }
   ],
   "source": [
    "del d['Songs']\n",
    "print(d)"
   ]
  },
  {
   "cell_type": "code",
   "execution_count": 32,
   "id": "b6e73c4b-3b73-4092-a055-8e060f81fd56",
   "metadata": {},
   "outputs": [
    {
     "name": "stdout",
     "output_type": "stream",
     "text": [
      "5\n"
     ]
    }
   ],
   "source": [
    "print(len(d))"
   ]
  },
  {
   "cell_type": "code",
   "execution_count": 33,
   "id": "85a768e2-b629-4333-a9f2-f0f462f3b2c8",
   "metadata": {},
   "outputs": [
    {
     "name": "stdout",
     "output_type": "stream",
     "text": [
      "['actor', 'animal', 'earth', 'list', 'Country']\n"
     ]
    }
   ],
   "source": [
    "print(list(d.keys()))"
   ]
  },
  {
   "cell_type": "code",
   "execution_count": 34,
   "id": "873325e2-b19a-4ba1-9351-40a86264aa16",
   "metadata": {},
   "outputs": [
    {
     "name": "stdout",
     "output_type": "stream",
     "text": [
      "actor : amir\n",
      "animal : cat\n",
      "earth : 36\n",
      "list : [23, 32, 12]\n",
      "Country : Honey singh\n"
     ]
    }
   ],
   "source": [
    "for a,b in d.items():\n",
    "    print(a,\":\",b)"
   ]
  },
  {
   "cell_type": "code",
   "execution_count": 35,
   "id": "cf098661-12ac-4e10-ac41-368e33bd5f61",
   "metadata": {},
   "outputs": [
    {
     "name": "stdout",
     "output_type": "stream",
     "text": [
      "5\n"
     ]
    }
   ],
   "source": [
    "print(len(d))"
   ]
  },
  {
   "cell_type": "code",
   "execution_count": 36,
   "id": "1e31a7dc-3b05-4c40-9305-587a4f963f16",
   "metadata": {},
   "outputs": [
    {
     "name": "stdout",
     "output_type": "stream",
     "text": [
      "['amir', 'cat', 36, [23, 32, 12], 'Honey singh']\n"
     ]
    }
   ],
   "source": [
    "print(list(d.values()))"
   ]
  },
  {
   "cell_type": "code",
   "execution_count": 37,
   "id": "6402bd6c-034c-4f15-94d1-3698a52c4413",
   "metadata": {},
   "outputs": [
    {
     "name": "stdout",
     "output_type": "stream",
     "text": [
      "{'actor': 'amir', 'animal': 'cat', 'earth': 36, 'list': [23, 32, 12], 'Country': 'Honey singh', 6: ['Hello Jay', 22]}\n"
     ]
    }
   ],
   "source": [
    "d[6]=['Hello Jay',22]\n",
    "print(d)"
   ]
  },
  {
   "cell_type": "code",
   "execution_count": 38,
   "id": "837bf2d0-bcb1-42e7-8a93-57ec68722fae",
   "metadata": {},
   "outputs": [
    {
     "name": "stdout",
     "output_type": "stream",
     "text": [
      "actor : amir\n",
      "animal : cat\n",
      "earth : 36\n",
      "list : [23, 32, 12]\n",
      "Country : Honey singh\n",
      "6 : ['Hello Jay', 22]\n"
     ]
    }
   ],
   "source": [
    "for a,b in d.items():\n",
    "    print(a,\":\",b)"
   ]
  },
  {
   "cell_type": "code",
   "execution_count": null,
   "id": "46d37aac-b1cd-4eff-8cce-db7e3fe2282f",
   "metadata": {},
   "outputs": [],
   "source": []
  }
 ],
 "metadata": {
  "kernelspec": {
   "display_name": "Python 3 (ipykernel)",
   "language": "python",
   "name": "python3"
  },
  "language_info": {
   "codemirror_mode": {
    "name": "ipython",
    "version": 3
   },
   "file_extension": ".py",
   "mimetype": "text/x-python",
   "name": "python",
   "nbconvert_exporter": "python",
   "pygments_lexer": "ipython3",
   "version": "3.12.7"
  }
 },
 "nbformat": 4,
 "nbformat_minor": 5
}

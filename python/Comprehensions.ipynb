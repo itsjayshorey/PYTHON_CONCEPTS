{
 "cells": [
  {
   "cell_type": "code",
   "execution_count": 1,
   "id": "366eff6d-193d-4231-99e4-71854b24a59b",
   "metadata": {},
   "outputs": [
    {
     "name": "stdout",
     "output_type": "stream",
     "text": [
      "[1, 4, 9, 16, 25, 36, 49, 64, 81]\n"
     ]
    }
   ],
   "source": [
    "squares_list = []\n",
    "\n",
    "for x in range(1,10):\n",
    "    squares_list.append(x**2)\n",
    "print(squares_list)"
   ]
  },
  {
   "cell_type": "code",
   "execution_count": 2,
   "id": "5a44722c-85b4-4f7b-96f3-9d9e8d1b1c8f",
   "metadata": {},
   "outputs": [],
   "source": [
    "paragraph = [\"There was a fox\",\"It was brown in color\",\"It was seen near that farm sometime\"]"
   ]
  },
  {
   "cell_type": "code",
   "execution_count": 3,
   "id": "58f53a59-5f40-4dd2-b31c-eaa7af8dee1c",
   "metadata": {},
   "outputs": [
    {
     "name": "stdout",
     "output_type": "stream",
     "text": [
      "['There', 'was', 'a', 'fox', 'It', 'was', 'brown', 'in', 'color', 'It', 'was', 'seen', 'near', 'that', 'farm', 'sometime']\n"
     ]
    }
   ],
   "source": [
    "single_word_list=[]\n",
    "for sentence in paragraph:\n",
    "    for word in sentence.split():\n",
    "        single_word_list.append(word)\n",
    "print(single_word_list)"
   ]
  },
  {
   "cell_type": "code",
   "execution_count": 4,
   "id": "a93aeafa-707f-4448-8783-4006ffdb9c51",
   "metadata": {},
   "outputs": [
    {
     "name": "stdout",
     "output_type": "stream",
     "text": [
      "['There', 'was', 'a', 'fox', 'It', 'was', 'brown', 'in', 'color', 'It', 'was', 'seen', 'near', 'that', 'farm', 'sometime']\n"
     ]
    }
   ],
   "source": [
    "single_word_list = [ word for sentence in paragraph for word in sentence.split()]\n",
    "print(single_word_list)"
   ]
  },
  {
   "cell_type": "code",
   "execution_count": 5,
   "id": "859053da-e599-4c64-899c-9e64280424a7",
   "metadata": {},
   "outputs": [
    {
     "data": {
      "text/plain": [
       "['a', 'It', 'in', 'It']"
      ]
     },
     "execution_count": 5,
     "metadata": {},
     "output_type": "execute_result"
    }
   ],
   "source": [
    "vowels = ['a','e','i','o','u']\n",
    "vowels_from_sentence = []\n",
    "for sentence in paragraph:\n",
    "    for word in sentence.split():\n",
    "        if word[0].lower() in vowels:\n",
    "            vowels_from_sentence.append(word)\n",
    "vowels_from_sentence"
   ]
  },
  {
   "cell_type": "code",
   "execution_count": 6,
   "id": "4e9636f4-9e2c-4247-8e15-194aa22921f8",
   "metadata": {},
   "outputs": [
    {
     "data": {
      "text/plain": [
       "['a', 'It', 'in', 'It']"
      ]
     },
     "execution_count": 6,
     "metadata": {},
     "output_type": "execute_result"
    }
   ],
   "source": [
    "vowels_comp = [word for sentence in paragraph for word in sentence.split() if word[0].lower() in vowels]\n",
    "vowels_comp"
   ]
  },
  {
   "cell_type": "code",
   "execution_count": 7,
   "id": "32285107-2c71-4d97-aeff-5d4373cb972e",
   "metadata": {},
   "outputs": [],
   "source": [
    "students_data = {1:['Jay Shorey', 24], 2:['Udit Bansal', 25],3:['Sonam Gupta',26],4:['Lipika']}"
   ]
  },
  {
   "cell_type": "code",
   "execution_count": 8,
   "id": "2322cf56-b7e5-4923-b160-95acced5c80b",
   "metadata": {},
   "outputs": [
    {
     "name": "stdout",
     "output_type": "stream",
     "text": [
      "{2: 'Udit Bansal', 4: 'Lipika'}\n"
     ]
    }
   ],
   "source": [
    "name_dict = {}\n",
    "for roll_nums,details in students_data.items():\n",
    "    if roll_nums%2==0:\n",
    "        name_dict[roll_nums] = details[0]\n",
    "print(name_dict)"
   ]
  },
  {
   "cell_type": "code",
   "execution_count": 10,
   "id": "5891e74b-a102-470c-a1b1-21be3af21546",
   "metadata": {},
   "outputs": [
    {
     "name": "stdout",
     "output_type": "stream",
     "text": [
      "{2: ['Udit Bansal', 25], 4: ['Lipika']}\n"
     ]
    }
   ],
   "source": [
    "list_even_roll = {roll_num:details for roll_num,details in students_data.items() if roll_num%2==0}\n",
    "print(list_even_roll)"
   ]
  },
  {
   "cell_type": "code",
   "execution_count": null,
   "id": "165ec714-bee9-4605-8d03-bb36973f5773",
   "metadata": {},
   "outputs": [],
   "source": []
  }
 ],
 "metadata": {
  "kernelspec": {
   "display_name": "Python 3 (ipykernel)",
   "language": "python",
   "name": "python3"
  },
  "language_info": {
   "codemirror_mode": {
    "name": "ipython",
    "version": 3
   },
   "file_extension": ".py",
   "mimetype": "text/x-python",
   "name": "python",
   "nbconvert_exporter": "python",
   "pygments_lexer": "ipython3",
   "version": "3.12.7"
  }
 },
 "nbformat": 4,
 "nbformat_minor": 5
}

{
 "cells": [
  {
   "cell_type": "code",
   "execution_count": 1,
   "id": "d22765bf-2f73-4c10-bd25-08243d9d0eba",
   "metadata": {},
   "outputs": [],
   "source": [
    "stud_grade = ['A','A','B','C','C','F']"
   ]
  },
  {
   "cell_type": "code",
   "execution_count": 3,
   "id": "b1306df6-9cf0-4eaa-bb66-45f9aa3b3a10",
   "metadata": {},
   "outputs": [],
   "source": [
    "stud_grade = set(stud_grade)"
   ]
  },
  {
   "cell_type": "code",
   "execution_count": 5,
   "id": "0b5f5601-bf9c-434d-8d6e-616ca44b9001",
   "metadata": {},
   "outputs": [
    {
     "data": {
      "text/plain": [
       "set"
      ]
     },
     "execution_count": 5,
     "metadata": {},
     "output_type": "execute_result"
    }
   ],
   "source": [
    "type(stud_grade)"
   ]
  },
  {
   "cell_type": "code",
   "execution_count": 7,
   "id": "438645be-327e-4137-9463-c12e962ba35c",
   "metadata": {},
   "outputs": [
    {
     "data": {
      "text/plain": [
       "{'A', 'B', 'C', 'F'}"
      ]
     },
     "execution_count": 7,
     "metadata": {},
     "output_type": "execute_result"
    }
   ],
   "source": [
    "stud_grade"
   ]
  },
  {
   "cell_type": "code",
   "execution_count": 8,
   "id": "270051ac-2307-49f9-8bdb-899783f13994",
   "metadata": {},
   "outputs": [],
   "source": [
    "stud_grade2 = ['A','N','F','N','G','A']"
   ]
  },
  {
   "cell_type": "code",
   "execution_count": 10,
   "id": "38a48a6a-a728-41ea-8e4f-9e0060772d63",
   "metadata": {},
   "outputs": [
    {
     "data": {
      "text/plain": [
       "{'A', 'F', 'G', 'N'}"
      ]
     },
     "execution_count": 10,
     "metadata": {},
     "output_type": "execute_result"
    }
   ],
   "source": [
    "stud_grade2 = set(stud_grade2)\n",
    "stud_grade2"
   ]
  },
  {
   "cell_type": "code",
   "execution_count": 11,
   "id": "bf9d83f2-ee8c-429d-ba67-59b8a5fcaf9a",
   "metadata": {},
   "outputs": [
    {
     "data": {
      "text/plain": [
       "{'A', 'B', 'C', 'F', 'G', 'N'}"
      ]
     },
     "execution_count": 11,
     "metadata": {},
     "output_type": "execute_result"
    }
   ],
   "source": [
    "stud_grade2.union(stud_grade)"
   ]
  },
  {
   "cell_type": "code",
   "execution_count": 12,
   "id": "8347a30b-af82-49f9-9439-ead11cbed7d7",
   "metadata": {},
   "outputs": [
    {
     "data": {
      "text/plain": [
       "{'A', 'F'}"
      ]
     },
     "execution_count": 12,
     "metadata": {},
     "output_type": "execute_result"
    }
   ],
   "source": [
    "stud_grade2.intersection(stud_grade)"
   ]
  },
  {
   "cell_type": "code",
   "execution_count": 13,
   "id": "c2d9b0fb-ed7c-4bc5-a6c5-9689bc926b41",
   "metadata": {},
   "outputs": [
    {
     "data": {
      "text/plain": [
       "set()"
      ]
     },
     "execution_count": 13,
     "metadata": {},
     "output_type": "execute_result"
    }
   ],
   "source": [
    "stud_grade2.difference(stud_grade2)"
   ]
  },
  {
   "cell_type": "code",
   "execution_count": 14,
   "id": "a3698274-8bae-4ba9-be1b-41b69a086c6a",
   "metadata": {},
   "outputs": [
    {
     "data": {
      "text/plain": [
       "{'G', 'N'}"
      ]
     },
     "execution_count": 14,
     "metadata": {},
     "output_type": "execute_result"
    }
   ],
   "source": [
    "stud_grade2.difference(stud_grade)"
   ]
  },
  {
   "cell_type": "code",
   "execution_count": 15,
   "id": "8f7e7fef-afe7-4e0c-a19d-e0303ec33a5c",
   "metadata": {},
   "outputs": [],
   "source": [
    "stud_grade.add('O')"
   ]
  },
  {
   "cell_type": "code",
   "execution_count": 16,
   "id": "28e3f231-6be1-46c9-b40a-7199e883787e",
   "metadata": {},
   "outputs": [
    {
     "data": {
      "text/plain": [
       "{'A', 'B', 'C', 'F', 'O'}"
      ]
     },
     "execution_count": 16,
     "metadata": {},
     "output_type": "execute_result"
    }
   ],
   "source": [
    "stud_grade"
   ]
  },
  {
   "cell_type": "code",
   "execution_count": 17,
   "id": "8b7d11fb-8925-4dcb-890b-2b3d89d2642d",
   "metadata": {},
   "outputs": [],
   "source": [
    "stud_grade.remove('F')"
   ]
  },
  {
   "cell_type": "code",
   "execution_count": 18,
   "id": "d5813388-f255-4dc5-8699-cc258b686c35",
   "metadata": {},
   "outputs": [
    {
     "data": {
      "text/plain": [
       "{'A', 'B', 'C', 'O'}"
      ]
     },
     "execution_count": 18,
     "metadata": {},
     "output_type": "execute_result"
    }
   ],
   "source": [
    "stud_grade"
   ]
  },
  {
   "cell_type": "code",
   "execution_count": 19,
   "id": "aeecc5b6-2c87-4251-8a4f-d11aecd5216c",
   "metadata": {},
   "outputs": [
    {
     "name": "stdout",
     "output_type": "stream",
     "text": [
      "C\n",
      "A\n",
      "O\n",
      "B\n"
     ]
    }
   ],
   "source": [
    "for grades in stud_grade:\n",
    "    print(grades)"
   ]
  },
  {
   "cell_type": "code",
   "execution_count": 20,
   "id": "20d829bf-4ec9-4e3d-8ac7-0f32badfcb78",
   "metadata": {},
   "outputs": [
    {
     "data": {
      "text/plain": [
       "True"
      ]
     },
     "execution_count": 20,
     "metadata": {},
     "output_type": "execute_result"
    }
   ],
   "source": [
    "'A' in stud_grade"
   ]
  },
  {
   "cell_type": "code",
   "execution_count": 21,
   "id": "c7cf551e-840c-47b2-a086-b9510d8d9cca",
   "metadata": {},
   "outputs": [
    {
     "data": {
      "text/plain": [
       "False"
      ]
     },
     "execution_count": 21,
     "metadata": {},
     "output_type": "execute_result"
    }
   ],
   "source": [
    "'O' in stud_grade2"
   ]
  },
  {
   "cell_type": "code",
   "execution_count": 22,
   "id": "6252137c-8359-4ce7-a869-d1735c61d59f",
   "metadata": {},
   "outputs": [
    {
     "data": {
      "text/plain": [
       "True"
      ]
     },
     "execution_count": 22,
     "metadata": {},
     "output_type": "execute_result"
    }
   ],
   "source": [
    "stud_grade.issubset(stud_grade)"
   ]
  },
  {
   "cell_type": "code",
   "execution_count": 23,
   "id": "a6eda15f-67c8-4f03-b519-a7cc5d372946",
   "metadata": {},
   "outputs": [
    {
     "data": {
      "text/plain": [
       "False"
      ]
     },
     "execution_count": 23,
     "metadata": {},
     "output_type": "execute_result"
    }
   ],
   "source": [
    "stud_grade.issubset(stud_grade2)"
   ]
  },
  {
   "cell_type": "code",
   "execution_count": 24,
   "id": "dfa3a351-734a-4733-a47b-2350475d04a3",
   "metadata": {},
   "outputs": [
    {
     "data": {
      "text/plain": [
       "False"
      ]
     },
     "execution_count": 24,
     "metadata": {},
     "output_type": "execute_result"
    }
   ],
   "source": [
    "stud_grade.issubset({'A','F'})"
   ]
  },
  {
   "cell_type": "code",
   "execution_count": 28,
   "id": "614fbcca-d070-4246-8712-ab57adb0e6b3",
   "metadata": {},
   "outputs": [
    {
     "data": {
      "text/plain": [
       "False"
      ]
     },
     "execution_count": 28,
     "metadata": {},
     "output_type": "execute_result"
    }
   ],
   "source": [
    "stud_grade.issubset({'A','B'})"
   ]
  },
  {
   "cell_type": "code",
   "execution_count": 29,
   "id": "e67a981e-7312-4671-9327-52f00277e491",
   "metadata": {},
   "outputs": [
    {
     "data": {
      "text/plain": [
       "set"
      ]
     },
     "execution_count": 29,
     "metadata": {},
     "output_type": "execute_result"
    }
   ],
   "source": [
    "type({'A','B'})"
   ]
  },
  {
   "cell_type": "code",
   "execution_count": 30,
   "id": "a978c8f8-0277-401c-acdc-f37c3350aae5",
   "metadata": {},
   "outputs": [
    {
     "data": {
      "text/plain": [
       "{'A', 'B', 'C', 'O'}"
      ]
     },
     "execution_count": 30,
     "metadata": {},
     "output_type": "execute_result"
    }
   ],
   "source": [
    "stud_grade"
   ]
  },
  {
   "cell_type": "code",
   "execution_count": 31,
   "id": "fcaa34ce-e129-4a75-9420-6daf6f3e1474",
   "metadata": {},
   "outputs": [
    {
     "data": {
      "text/plain": [
       "True"
      ]
     },
     "execution_count": 31,
     "metadata": {},
     "output_type": "execute_result"
    }
   ],
   "source": [
    "{'A','B'}.issubset(stud_grade)"
   ]
  },
  {
   "cell_type": "code",
   "execution_count": 32,
   "id": "5422d2a1-8477-44dc-919f-4e6530fe4a76",
   "metadata": {},
   "outputs": [
    {
     "data": {
      "text/plain": [
       "{'B', 'C', 'F', 'G', 'N', 'O'}"
      ]
     },
     "execution_count": 32,
     "metadata": {},
     "output_type": "execute_result"
    }
   ],
   "source": [
    "stud_grade.symmetric_difference(stud_grade2)"
   ]
  },
  {
   "cell_type": "code",
   "execution_count": 33,
   "id": "991caf04-3a5b-40a6-9edf-7448dd7e1501",
   "metadata": {},
   "outputs": [
    {
     "data": {
      "text/plain": [
       "{'A', 'B', 'C', 'O'}"
      ]
     },
     "execution_count": 33,
     "metadata": {},
     "output_type": "execute_result"
    }
   ],
   "source": [
    "stud_grade"
   ]
  },
  {
   "cell_type": "code",
   "execution_count": 34,
   "id": "cd7aa084-6be5-4a5d-a4a4-443305e26d35",
   "metadata": {},
   "outputs": [
    {
     "data": {
      "text/plain": [
       "{'A', 'F', 'G', 'N'}"
      ]
     },
     "execution_count": 34,
     "metadata": {},
     "output_type": "execute_result"
    }
   ],
   "source": [
    "stud_grade2"
   ]
  },
  {
   "cell_type": "code",
   "execution_count": null,
   "id": "ba648840-f8b0-4131-9ccb-58e7d86adc70",
   "metadata": {},
   "outputs": [],
   "source": []
  }
 ],
 "metadata": {
  "kernelspec": {
   "display_name": "Python 3 (ipykernel)",
   "language": "python",
   "name": "python3"
  },
  "language_info": {
   "codemirror_mode": {
    "name": "ipython",
    "version": 3
   },
   "file_extension": ".py",
   "mimetype": "text/x-python",
   "name": "python",
   "nbconvert_exporter": "python",
   "pygments_lexer": "ipython3",
   "version": "3.12.7"
  }
 },
 "nbformat": 4,
 "nbformat_minor": 5
}

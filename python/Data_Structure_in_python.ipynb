{
 "cells": [
  {
   "cell_type": "code",
   "execution_count": 1,
   "id": "fc6a8752-fbd1-446c-b2d5-35eb0dbc3c12",
   "metadata": {},
   "outputs": [
    {
     "data": {
      "text/plain": [
       "list"
      ]
     },
     "execution_count": 1,
     "metadata": {},
     "output_type": "execute_result"
    }
   ],
   "source": [
    "a=[]\n",
    "type(a)"
   ]
  },
  {
   "cell_type": "code",
   "execution_count": 3,
   "id": "7ae6d167-eb2e-483e-a6bd-e92c74eff2ed",
   "metadata": {},
   "outputs": [
    {
     "name": "stdout",
     "output_type": "stream",
     "text": [
      "['R', 'Python', 'SAS', 'SCALA', 42]\n"
     ]
    }
   ],
   "source": [
    "languages=['R', 'Python','SAS','SCALA', 42]\n",
    "print(languages)"
   ]
  },
  {
   "cell_type": "code",
   "execution_count": 4,
   "id": "b71d83b4-093c-473f-b1b2-747ac9330f3c",
   "metadata": {},
   "outputs": [
    {
     "data": {
      "text/plain": [
       "type"
      ]
     },
     "execution_count": 4,
     "metadata": {},
     "output_type": "execute_result"
    }
   ],
   "source": [
    "type(list)"
   ]
  },
  {
   "cell_type": "code",
   "execution_count": 5,
   "id": "7576a588-6e0d-49cb-8959-9731dd8563cb",
   "metadata": {},
   "outputs": [
    {
     "name": "stdout",
     "output_type": "stream",
     "text": [
      "SCALA\n"
     ]
    }
   ],
   "source": [
    "print(languages[-2])"
   ]
  },
  {
   "cell_type": "code",
   "execution_count": 6,
   "id": "0dc82969-5964-46fd-bbcd-18c42b7c6d45",
   "metadata": {},
   "outputs": [
    {
     "name": "stdout",
     "output_type": "stream",
     "text": [
      "['Python', 'SAS', 'SCALA', 42]\n"
     ]
    }
   ],
   "source": [
    "print(languages[1:])"
   ]
  },
  {
   "cell_type": "code",
   "execution_count": 7,
   "id": "837088e0-0f38-4783-97a2-93c8db092eb0",
   "metadata": {},
   "outputs": [
    {
     "name": "stdout",
     "output_type": "stream",
     "text": [
      "['R', 'Python', 'SAS', 'SCALA']\n"
     ]
    }
   ],
   "source": [
    "print(languages[:4])"
   ]
  },
  {
   "cell_type": "code",
   "execution_count": 8,
   "id": "e88e525e-6166-4032-ae2f-97639ff78418",
   "metadata": {},
   "outputs": [
    {
     "data": {
      "text/plain": [
       "42"
      ]
     },
     "execution_count": 8,
     "metadata": {},
     "output_type": "execute_result"
    }
   ],
   "source": [
    "languages.pop()"
   ]
  },
  {
   "cell_type": "code",
   "execution_count": 9,
   "id": "a9a9dbd1-3670-4402-821d-b2d45b85ed4c",
   "metadata": {},
   "outputs": [
    {
     "data": {
      "text/plain": [
       "['R', 'Python', 'SAS', 'SCALA']"
      ]
     },
     "execution_count": 9,
     "metadata": {},
     "output_type": "execute_result"
    }
   ],
   "source": [
    "languages"
   ]
  },
  {
   "cell_type": "code",
   "execution_count": 13,
   "id": "fa0ace54-0f3e-45d0-919f-e8c5c34181e0",
   "metadata": {},
   "outputs": [
    {
     "data": {
      "text/plain": [
       "'Python'"
      ]
     },
     "execution_count": 13,
     "metadata": {},
     "output_type": "execute_result"
    }
   ],
   "source": [
    "languages.pop(1)"
   ]
  },
  {
   "cell_type": "code",
   "execution_count": 14,
   "id": "7e0310c2-c654-41c3-9e78-99c841b69e7a",
   "metadata": {},
   "outputs": [
    {
     "data": {
      "text/plain": [
       "['R', 'SAS', 'SCALA']"
      ]
     },
     "execution_count": 14,
     "metadata": {},
     "output_type": "execute_result"
    }
   ],
   "source": [
    "languages"
   ]
  },
  {
   "cell_type": "code",
   "execution_count": 15,
   "id": "e5b87974-2b2c-4be4-abcb-3e2d4abb1a35",
   "metadata": {},
   "outputs": [],
   "source": [
    "languages.append('PYTHON')"
   ]
  },
  {
   "cell_type": "code",
   "execution_count": 16,
   "id": "579d24a0-d014-42a0-8141-3673c91b02e4",
   "metadata": {},
   "outputs": [
    {
     "data": {
      "text/plain": [
       "['R', 'SAS', 'SCALA', 'PYTHON']"
      ]
     },
     "execution_count": 16,
     "metadata": {},
     "output_type": "execute_result"
    }
   ],
   "source": [
    "languages"
   ]
  },
  {
   "cell_type": "code",
   "execution_count": 17,
   "id": "5075f4b4-8ae3-482e-8291-8702a2caab18",
   "metadata": {},
   "outputs": [],
   "source": [
    "languages.remove('SAS')"
   ]
  },
  {
   "cell_type": "code",
   "execution_count": 18,
   "id": "07298808-7a1e-448a-a74b-9370a8dacf24",
   "metadata": {},
   "outputs": [
    {
     "data": {
      "text/plain": [
       "['R', 'SCALA', 'PYTHON']"
      ]
     },
     "execution_count": 18,
     "metadata": {},
     "output_type": "execute_result"
    }
   ],
   "source": [
    "languages"
   ]
  },
  {
   "cell_type": "markdown",
   "id": "20d54dbf-6db1-4711-8169-e5776dd66235",
   "metadata": {},
   "source": [
    "# Now in list equating it will make an address of it not making a new like in string"
   ]
  },
  {
   "cell_type": "code",
   "execution_count": 20,
   "id": "1fd0f236-821d-4523-8da8-7fafc2d7ba2a",
   "metadata": {},
   "outputs": [
    {
     "name": "stdout",
     "output_type": "stream",
     "text": [
      "['R', 'SCALA', 'PYTHON', 'Java']\n"
     ]
    }
   ],
   "source": [
    "new_list = languages\n",
    "languages.append('Java')\n",
    "print(new_list)"
   ]
  },
  {
   "cell_type": "code",
   "execution_count": 21,
   "id": "f266b92c-a906-4cbe-9b29-812d9c0261af",
   "metadata": {},
   "outputs": [
    {
     "name": "stdout",
     "output_type": "stream",
     "text": [
      "2372161249792\n"
     ]
    }
   ],
   "source": [
    "print(id(languages))"
   ]
  },
  {
   "cell_type": "code",
   "execution_count": 22,
   "id": "afeef8c2-fa5d-4aa7-b8c0-1cd8e7aaa8bf",
   "metadata": {},
   "outputs": [
    {
     "name": "stdout",
     "output_type": "stream",
     "text": [
      "2372161249792\n"
     ]
    }
   ],
   "source": [
    "print(id(new_list))"
   ]
  },
  {
   "cell_type": "markdown",
   "id": "904fef8e-2c67-4895-bdee-482372f886e6",
   "metadata": {},
   "source": [
    "## Some functions from string to list"
   ]
  },
  {
   "cell_type": "code",
   "execution_count": 25,
   "id": "890eb562-afec-4b4c-993c-469b3153b56e",
   "metadata": {},
   "outputs": [],
   "source": [
    "sentence = \"Hello Jay Shorey you are selected\""
   ]
  },
  {
   "cell_type": "code",
   "execution_count": 26,
   "id": "3cba2257-38d6-4bb9-9227-0465eca7cc35",
   "metadata": {},
   "outputs": [],
   "source": [
    "words= sentence.split()"
   ]
  },
  {
   "cell_type": "code",
   "execution_count": 27,
   "id": "f3322efc-610f-4119-9777-65b2eafac3fa",
   "metadata": {},
   "outputs": [
    {
     "data": {
      "text/plain": [
       "['Hello', 'Jay', 'Shorey', 'you', 'are', 'selected']"
      ]
     },
     "execution_count": 27,
     "metadata": {},
     "output_type": "execute_result"
    }
   ],
   "source": [
    "words"
   ]
  },
  {
   "cell_type": "code",
   "execution_count": 32,
   "id": "16a70774-1bf5-4537-803a-19689a453bf0",
   "metadata": {},
   "outputs": [
    {
     "data": {
      "text/plain": [
       "['Hello Jay Shorey you ', 'are ', 'selected']"
      ]
     },
     "execution_count": 32,
     "metadata": {},
     "output_type": "execute_result"
    }
   ],
   "source": [
    "sentence = \"Hello Jay Shorey you .are .selected\"\n",
    "words=sentence.split(\".\")\n",
    "words"
   ]
  },
  {
   "cell_type": "code",
   "execution_count": 34,
   "id": "659d090f-e335-40b5-bc1c-54ff662a165d",
   "metadata": {},
   "outputs": [
    {
     "name": "stdout",
     "output_type": "stream",
     "text": [
      "Hello Jay Shorey you         are         selected\n"
     ]
    }
   ],
   "source": [
    "new_sentence= \"        \".join(words)\n",
    "print(new_sentence)"
   ]
  },
  {
   "cell_type": "code",
   "execution_count": 35,
   "id": "455d3f51-899a-4eac-9a47-18f56d4215aa",
   "metadata": {},
   "outputs": [
    {
     "data": {
      "text/plain": [
       "['ola ', 'ola ', 'ola ', 'ola ', 'ola ', 'ola ']"
      ]
     },
     "execution_count": 35,
     "metadata": {},
     "output_type": "execute_result"
    }
   ],
   "source": [
    "list1 =[\"ola \"]\n",
    "list1*6"
   ]
  },
  {
   "cell_type": "code",
   "execution_count": 36,
   "id": "4bb16c8f-ca6a-49cf-9f03-2c3efd34a852",
   "metadata": {},
   "outputs": [
    {
     "data": {
      "text/plain": [
       "6"
      ]
     },
     "execution_count": 36,
     "metadata": {},
     "output_type": "execute_result"
    }
   ],
   "source": [
    "len(list1*6)"
   ]
  },
  {
   "cell_type": "markdown",
   "id": "b99d7a66-ef91-48de-9db8-2a30e6f8b6c3",
   "metadata": {},
   "source": [
    "nums=[1,2,3,4,5,6,7,8,9,10,11,12]\n",
    "len(nums)"
   ]
  },
  {
   "cell_type": "code",
   "execution_count": 38,
   "id": "c5ca6739-c24f-45fa-9398-b7e7b81f5ab8",
   "metadata": {},
   "outputs": [
    {
     "data": {
      "text/plain": [
       "[2, 4, 6, 8, 10, 12]"
      ]
     },
     "execution_count": 38,
     "metadata": {},
     "output_type": "execute_result"
    }
   ],
   "source": [
    "nums[1::2]"
   ]
  },
  {
   "cell_type": "code",
   "execution_count": 41,
   "id": "afbc3b36-583e-45e1-af2e-af56cde893ff",
   "metadata": {},
   "outputs": [
    {
     "data": {
      "text/plain": [
       "[1, 2, '!!!!', 4, 5, 6, 7, 8, 9, 10, 11, 12]"
      ]
     },
     "execution_count": 41,
     "metadata": {},
     "output_type": "execute_result"
    }
   ],
   "source": [
    "nums[2]=\"!!!!\"\n",
    "nums"
   ]
  },
  {
   "cell_type": "code",
   "execution_count": 45,
   "id": "0ddd286b-9943-4446-888e-f2a865d2c380",
   "metadata": {},
   "outputs": [
    {
     "name": "stdout",
     "output_type": "stream",
     "text": [
      "[1, 1, 2, 2, 3, 4, 7, 7, 8, 8, 9, 10, 11, 12]\n"
     ]
    }
   ],
   "source": [
    "nums=[1,2,3,4,7,8,9,10,11,12,1,2,7,8]\n",
    "print(sorted(nums))"
   ]
  },
  {
   "cell_type": "code",
   "execution_count": 46,
   "id": "cb0c53e3-169d-454d-9ead-108ab5cbf12e",
   "metadata": {},
   "outputs": [
    {
     "name": "stdout",
     "output_type": "stream",
     "text": [
      "12\n"
     ]
    }
   ],
   "source": [
    "print(max(nums))"
   ]
  },
  {
   "cell_type": "code",
   "execution_count": 47,
   "id": "211772e3-c136-4d34-814b-38beb5b9207f",
   "metadata": {},
   "outputs": [
    {
     "data": {
      "text/plain": [
       "1"
      ]
     },
     "execution_count": 47,
     "metadata": {},
     "output_type": "execute_result"
    }
   ],
   "source": [
    "min(nums)"
   ]
  },
  {
   "cell_type": "markdown",
   "id": "8cf2ee72-d290-4ec3-ba61-31def4fdd26f",
   "metadata": {},
   "source": [
    "### List in a list"
   ]
  },
  {
   "cell_type": "code",
   "execution_count": 49,
   "id": "1eb5df62-c5a6-40ef-901b-825cadc4fb5d",
   "metadata": {},
   "outputs": [
    {
     "name": "stdout",
     "output_type": "stream",
     "text": [
      "5\n"
     ]
    }
   ],
   "source": [
    "n=[[1,2,3,4],[5,6,7,8],[9,10,11,12]]\n",
    "print(n[1][0])"
   ]
  },
  {
   "cell_type": "code",
   "execution_count": null,
   "id": "67dee887-cb70-49a7-9825-f4cbfdf098f4",
   "metadata": {},
   "outputs": [],
   "source": []
  }
 ],
 "metadata": {
  "kernelspec": {
   "display_name": "Python 3 (ipykernel)",
   "language": "python",
   "name": "python3"
  },
  "language_info": {
   "codemirror_mode": {
    "name": "ipython",
    "version": 3
   },
   "file_extension": ".py",
   "mimetype": "text/x-python",
   "name": "python",
   "nbconvert_exporter": "python",
   "pygments_lexer": "ipython3",
   "version": "3.12.7"
  }
 },
 "nbformat": 4,
 "nbformat_minor": 5
}

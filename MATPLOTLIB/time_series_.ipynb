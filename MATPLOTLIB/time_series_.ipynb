{
 "cells": [
  {
   "cell_type": "code",
   "execution_count": 12,
   "id": "c0cc1579-835c-462f-8629-fda4e9a01404",
   "metadata": {},
   "outputs": [],
   "source": [
    "import matplotlib.pyplot as plt\n",
    "import pandas as pd \n",
    "import numpy as np\n",
    "import seaborn as sns"
   ]
  },
  {
   "cell_type": "code",
   "execution_count": 13,
   "id": "16b83aca-5017-443f-8b84-64f1a2d31289",
   "metadata": {},
   "outputs": [],
   "source": [
    "df = pd.read_csv('file.csv')"
   ]
  },
  {
   "cell_type": "code",
   "execution_count": 14,
   "id": "f39566dd-96dc-4b8c-88f8-23d9a3a62109",
   "metadata": {},
   "outputs": [
    {
     "data": {
      "text/html": [
       "<div>\n",
       "<style scoped>\n",
       "    .dataframe tbody tr th:only-of-type {\n",
       "        vertical-align: middle;\n",
       "    }\n",
       "\n",
       "    .dataframe tbody tr th {\n",
       "        vertical-align: top;\n",
       "    }\n",
       "\n",
       "    .dataframe thead th {\n",
       "        text-align: right;\n",
       "    }\n",
       "</style>\n",
       "<table border=\"1\" class=\"dataframe\">\n",
       "  <thead>\n",
       "    <tr style=\"text-align: right;\">\n",
       "      <th></th>\n",
       "      <th>Unnamed: 0.1</th>\n",
       "      <th>Unnamed: 0</th>\n",
       "      <th>State/UT</th>\n",
       "      <th>District</th>\n",
       "      <th>Temperature (°C)</th>\n",
       "      <th>Condition</th>\n",
       "      <th>Humidity (%)</th>\n",
       "      <th>Wind Speed (km/h)</th>\n",
       "      <th>Last Updated</th>\n",
       "    </tr>\n",
       "  </thead>\n",
       "  <tbody>\n",
       "    <tr>\n",
       "      <th>0</th>\n",
       "      <td>0</td>\n",
       "      <td>0</td>\n",
       "      <td>Andhra Pradesh</td>\n",
       "      <td>Anantapur</td>\n",
       "      <td>22.1</td>\n",
       "      <td>Clear</td>\n",
       "      <td>64</td>\n",
       "      <td>14.4</td>\n",
       "      <td>2025-01-23 23:00:00</td>\n",
       "    </tr>\n",
       "    <tr>\n",
       "      <th>1</th>\n",
       "      <td>1</td>\n",
       "      <td>1</td>\n",
       "      <td>Andhra Pradesh</td>\n",
       "      <td>Chittoor</td>\n",
       "      <td>18.5</td>\n",
       "      <td>Clear</td>\n",
       "      <td>93</td>\n",
       "      <td>4.0</td>\n",
       "      <td>2025-01-23 23:00:00</td>\n",
       "    </tr>\n",
       "    <tr>\n",
       "      <th>2</th>\n",
       "      <td>2</td>\n",
       "      <td>2</td>\n",
       "      <td>Andhra Pradesh</td>\n",
       "      <td>East Godavari</td>\n",
       "      <td>19.4</td>\n",
       "      <td>Clear</td>\n",
       "      <td>86</td>\n",
       "      <td>3.6</td>\n",
       "      <td>2025-01-23 23:00:00</td>\n",
       "    </tr>\n",
       "    <tr>\n",
       "      <th>3</th>\n",
       "      <td>3</td>\n",
       "      <td>3</td>\n",
       "      <td>Andhra Pradesh</td>\n",
       "      <td>Guntur</td>\n",
       "      <td>22.3</td>\n",
       "      <td>Mist</td>\n",
       "      <td>88</td>\n",
       "      <td>5.4</td>\n",
       "      <td>2025-01-23 23:00:00</td>\n",
       "    </tr>\n",
       "    <tr>\n",
       "      <th>4</th>\n",
       "      <td>4</td>\n",
       "      <td>4</td>\n",
       "      <td>Andhra Pradesh</td>\n",
       "      <td>Krishna</td>\n",
       "      <td>22.3</td>\n",
       "      <td>Mist</td>\n",
       "      <td>88</td>\n",
       "      <td>10.8</td>\n",
       "      <td>2025-01-23 23:00:00</td>\n",
       "    </tr>\n",
       "  </tbody>\n",
       "</table>\n",
       "</div>"
      ],
      "text/plain": [
       "   Unnamed: 0.1  Unnamed: 0        State/UT       District  Temperature (°C)  \\\n",
       "0             0           0  Andhra Pradesh      Anantapur              22.1   \n",
       "1             1           1  Andhra Pradesh       Chittoor              18.5   \n",
       "2             2           2  Andhra Pradesh  East Godavari              19.4   \n",
       "3             3           3  Andhra Pradesh         Guntur              22.3   \n",
       "4             4           4  Andhra Pradesh        Krishna              22.3   \n",
       "\n",
       "  Condition  Humidity (%)  Wind Speed (km/h)         Last Updated  \n",
       "0     Clear            64               14.4  2025-01-23 23:00:00  \n",
       "1     Clear            93                4.0  2025-01-23 23:00:00  \n",
       "2     Clear            86                3.6  2025-01-23 23:00:00  \n",
       "3      Mist            88                5.4  2025-01-23 23:00:00  \n",
       "4      Mist            88               10.8  2025-01-23 23:00:00  "
      ]
     },
     "execution_count": 14,
     "metadata": {},
     "output_type": "execute_result"
    }
   ],
   "source": [
    "df.head()"
   ]
  },
  {
   "cell_type": "code",
   "execution_count": 15,
   "id": "32faee50-17ad-4ccd-8fc3-e5af74d82af2",
   "metadata": {},
   "outputs": [],
   "source": [
    "df.reset_index(drop = True,inplace = True)"
   ]
  },
  {
   "cell_type": "code",
   "execution_count": 16,
   "id": "50567343-87c9-4611-ad43-2089cf964b08",
   "metadata": {},
   "outputs": [
    {
     "data": {
      "text/html": [
       "<div>\n",
       "<style scoped>\n",
       "    .dataframe tbody tr th:only-of-type {\n",
       "        vertical-align: middle;\n",
       "    }\n",
       "\n",
       "    .dataframe tbody tr th {\n",
       "        vertical-align: top;\n",
       "    }\n",
       "\n",
       "    .dataframe thead th {\n",
       "        text-align: right;\n",
       "    }\n",
       "</style>\n",
       "<table border=\"1\" class=\"dataframe\">\n",
       "  <thead>\n",
       "    <tr style=\"text-align: right;\">\n",
       "      <th></th>\n",
       "      <th>Unnamed: 0.1</th>\n",
       "      <th>Unnamed: 0</th>\n",
       "      <th>State/UT</th>\n",
       "      <th>District</th>\n",
       "      <th>Temperature (°C)</th>\n",
       "      <th>Condition</th>\n",
       "      <th>Humidity (%)</th>\n",
       "      <th>Wind Speed (km/h)</th>\n",
       "      <th>Last Updated</th>\n",
       "    </tr>\n",
       "  </thead>\n",
       "  <tbody>\n",
       "    <tr>\n",
       "      <th>0</th>\n",
       "      <td>0</td>\n",
       "      <td>0</td>\n",
       "      <td>Andhra Pradesh</td>\n",
       "      <td>Anantapur</td>\n",
       "      <td>22.1</td>\n",
       "      <td>Clear</td>\n",
       "      <td>64</td>\n",
       "      <td>14.4</td>\n",
       "      <td>2025-01-23 23:00:00</td>\n",
       "    </tr>\n",
       "    <tr>\n",
       "      <th>1</th>\n",
       "      <td>1</td>\n",
       "      <td>1</td>\n",
       "      <td>Andhra Pradesh</td>\n",
       "      <td>Chittoor</td>\n",
       "      <td>18.5</td>\n",
       "      <td>Clear</td>\n",
       "      <td>93</td>\n",
       "      <td>4.0</td>\n",
       "      <td>2025-01-23 23:00:00</td>\n",
       "    </tr>\n",
       "    <tr>\n",
       "      <th>2</th>\n",
       "      <td>2</td>\n",
       "      <td>2</td>\n",
       "      <td>Andhra Pradesh</td>\n",
       "      <td>East Godavari</td>\n",
       "      <td>19.4</td>\n",
       "      <td>Clear</td>\n",
       "      <td>86</td>\n",
       "      <td>3.6</td>\n",
       "      <td>2025-01-23 23:00:00</td>\n",
       "    </tr>\n",
       "    <tr>\n",
       "      <th>3</th>\n",
       "      <td>3</td>\n",
       "      <td>3</td>\n",
       "      <td>Andhra Pradesh</td>\n",
       "      <td>Guntur</td>\n",
       "      <td>22.3</td>\n",
       "      <td>Mist</td>\n",
       "      <td>88</td>\n",
       "      <td>5.4</td>\n",
       "      <td>2025-01-23 23:00:00</td>\n",
       "    </tr>\n",
       "    <tr>\n",
       "      <th>4</th>\n",
       "      <td>4</td>\n",
       "      <td>4</td>\n",
       "      <td>Andhra Pradesh</td>\n",
       "      <td>Krishna</td>\n",
       "      <td>22.3</td>\n",
       "      <td>Mist</td>\n",
       "      <td>88</td>\n",
       "      <td>10.8</td>\n",
       "      <td>2025-01-23 23:00:00</td>\n",
       "    </tr>\n",
       "    <tr>\n",
       "      <th>...</th>\n",
       "      <td>...</td>\n",
       "      <td>...</td>\n",
       "      <td>...</td>\n",
       "      <td>...</td>\n",
       "      <td>...</td>\n",
       "      <td>...</td>\n",
       "      <td>...</td>\n",
       "      <td>...</td>\n",
       "      <td>...</td>\n",
       "    </tr>\n",
       "    <tr>\n",
       "      <th>1147</th>\n",
       "      <td>1147</td>\n",
       "      <td>1147</td>\n",
       "      <td>Delhi</td>\n",
       "      <td>South West Delhi</td>\n",
       "      <td>18.1</td>\n",
       "      <td>Cloudy</td>\n",
       "      <td>40</td>\n",
       "      <td>18.0</td>\n",
       "      <td>2025-01-20 00:00:00</td>\n",
       "    </tr>\n",
       "    <tr>\n",
       "      <th>1148</th>\n",
       "      <td>1148</td>\n",
       "      <td>1148</td>\n",
       "      <td>Puducherry</td>\n",
       "      <td>Karaikal</td>\n",
       "      <td>24.9</td>\n",
       "      <td>Light rain shower</td>\n",
       "      <td>81</td>\n",
       "      <td>25.9</td>\n",
       "      <td>2025-01-20 00:00:00</td>\n",
       "    </tr>\n",
       "    <tr>\n",
       "      <th>1149</th>\n",
       "      <td>1149</td>\n",
       "      <td>1149</td>\n",
       "      <td>Puducherry</td>\n",
       "      <td>Mahe</td>\n",
       "      <td>26.2</td>\n",
       "      <td>Partly cloudy</td>\n",
       "      <td>74</td>\n",
       "      <td>18.4</td>\n",
       "      <td>2025-01-20 00:00:00</td>\n",
       "    </tr>\n",
       "    <tr>\n",
       "      <th>1150</th>\n",
       "      <td>1150</td>\n",
       "      <td>1150</td>\n",
       "      <td>Puducherry</td>\n",
       "      <td>Puducherry</td>\n",
       "      <td>24.8</td>\n",
       "      <td>Sunny</td>\n",
       "      <td>76</td>\n",
       "      <td>26.3</td>\n",
       "      <td>2025-01-20 00:00:00</td>\n",
       "    </tr>\n",
       "    <tr>\n",
       "      <th>1151</th>\n",
       "      <td>1151</td>\n",
       "      <td>1151</td>\n",
       "      <td>Puducherry</td>\n",
       "      <td>Yanam</td>\n",
       "      <td>23.6</td>\n",
       "      <td>Sunny</td>\n",
       "      <td>65</td>\n",
       "      <td>15.5</td>\n",
       "      <td>2025-01-20 00:00:00</td>\n",
       "    </tr>\n",
       "  </tbody>\n",
       "</table>\n",
       "<p>1152 rows × 9 columns</p>\n",
       "</div>"
      ],
      "text/plain": [
       "      Unnamed: 0.1  Unnamed: 0        State/UT          District  \\\n",
       "0                0           0  Andhra Pradesh         Anantapur   \n",
       "1                1           1  Andhra Pradesh          Chittoor   \n",
       "2                2           2  Andhra Pradesh     East Godavari   \n",
       "3                3           3  Andhra Pradesh            Guntur   \n",
       "4                4           4  Andhra Pradesh           Krishna   \n",
       "...            ...         ...             ...               ...   \n",
       "1147          1147        1147           Delhi  South West Delhi   \n",
       "1148          1148        1148      Puducherry          Karaikal   \n",
       "1149          1149        1149      Puducherry              Mahe   \n",
       "1150          1150        1150      Puducherry        Puducherry   \n",
       "1151          1151        1151      Puducherry             Yanam   \n",
       "\n",
       "      Temperature (°C)          Condition  Humidity (%)  Wind Speed (km/h)  \\\n",
       "0                 22.1              Clear            64               14.4   \n",
       "1                 18.5              Clear            93                4.0   \n",
       "2                 19.4              Clear            86                3.6   \n",
       "3                 22.3               Mist            88                5.4   \n",
       "4                 22.3               Mist            88               10.8   \n",
       "...                ...                ...           ...                ...   \n",
       "1147              18.1             Cloudy            40               18.0   \n",
       "1148              24.9  Light rain shower            81               25.9   \n",
       "1149              26.2      Partly cloudy            74               18.4   \n",
       "1150              24.8              Sunny            76               26.3   \n",
       "1151              23.6              Sunny            65               15.5   \n",
       "\n",
       "             Last Updated  \n",
       "0     2025-01-23 23:00:00  \n",
       "1     2025-01-23 23:00:00  \n",
       "2     2025-01-23 23:00:00  \n",
       "3     2025-01-23 23:00:00  \n",
       "4     2025-01-23 23:00:00  \n",
       "...                   ...  \n",
       "1147  2025-01-20 00:00:00  \n",
       "1148  2025-01-20 00:00:00  \n",
       "1149  2025-01-20 00:00:00  \n",
       "1150  2025-01-20 00:00:00  \n",
       "1151  2025-01-20 00:00:00  \n",
       "\n",
       "[1152 rows x 9 columns]"
      ]
     },
     "execution_count": 16,
     "metadata": {},
     "output_type": "execute_result"
    }
   ],
   "source": [
    "df"
   ]
  },
  {
   "cell_type": "code",
   "execution_count": 17,
   "id": "09a736bc-9399-42ed-a539-d389a5624412",
   "metadata": {},
   "outputs": [
    {
     "name": "stdout",
     "output_type": "stream",
     "text": [
      "<class 'pandas.core.frame.DataFrame'>\n",
      "RangeIndex: 1152 entries, 0 to 1151\n",
      "Data columns (total 9 columns):\n",
      " #   Column             Non-Null Count  Dtype  \n",
      "---  ------             --------------  -----  \n",
      " 0   Unnamed: 0.1       1152 non-null   int64  \n",
      " 1   Unnamed: 0         1152 non-null   int64  \n",
      " 2   State/UT           1152 non-null   object \n",
      " 3   District           1152 non-null   object \n",
      " 4   Temperature (°C)   1152 non-null   float64\n",
      " 5   Condition          1152 non-null   object \n",
      " 6   Humidity (%)       1152 non-null   int64  \n",
      " 7   Wind Speed (km/h)  1152 non-null   float64\n",
      " 8   Last Updated       1152 non-null   object \n",
      "dtypes: float64(2), int64(3), object(4)\n",
      "memory usage: 81.1+ KB\n"
     ]
    }
   ],
   "source": [
    "df.info()"
   ]
  },
  {
   "cell_type": "code",
   "execution_count": 18,
   "id": "fd0f91e8-26c0-4b7d-8ab0-86c9d25aea7c",
   "metadata": {},
   "outputs": [],
   "source": [
    "df['Last Updated'] = pd.to_datetime(df['Last Updated'])"
   ]
  },
  {
   "cell_type": "code",
   "execution_count": 19,
   "id": "8764afd5-8fe5-47a2-b608-ca8d28fbb11b",
   "metadata": {},
   "outputs": [
    {
     "name": "stdout",
     "output_type": "stream",
     "text": [
      "<class 'pandas.core.frame.DataFrame'>\n",
      "RangeIndex: 1152 entries, 0 to 1151\n",
      "Data columns (total 9 columns):\n",
      " #   Column             Non-Null Count  Dtype         \n",
      "---  ------             --------------  -----         \n",
      " 0   Unnamed: 0.1       1152 non-null   int64         \n",
      " 1   Unnamed: 0         1152 non-null   int64         \n",
      " 2   State/UT           1152 non-null   object        \n",
      " 3   District           1152 non-null   object        \n",
      " 4   Temperature (°C)   1152 non-null   float64       \n",
      " 5   Condition          1152 non-null   object        \n",
      " 6   Humidity (%)       1152 non-null   int64         \n",
      " 7   Wind Speed (km/h)  1152 non-null   float64       \n",
      " 8   Last Updated       1152 non-null   datetime64[ns]\n",
      "dtypes: datetime64[ns](1), float64(2), int64(3), object(3)\n",
      "memory usage: 81.1+ KB\n"
     ]
    }
   ],
   "source": [
    "df.info()"
   ]
  },
  {
   "cell_type": "code",
   "execution_count": 20,
   "id": "3a0b014c-51ef-4cba-8c63-5d5483aa192a",
   "metadata": {},
   "outputs": [],
   "source": [
    "temp_df_mean = df.groupby('Last Updated')['Temperature (°C)'].mean()"
   ]
  },
  {
   "cell_type": "code",
   "execution_count": 21,
   "id": "be5b234e-9a35-4c6d-9da2-247fb04d1572",
   "metadata": {},
   "outputs": [
    {
     "data": {
      "text/plain": [
       "Last Updated\n",
       "2025-01-20 00:00:00    20.189583\n",
       "2025-01-21 00:00:00    20.419097\n",
       "2025-01-22 00:00:00    20.430556\n",
       "2025-01-23 11:30:00    27.000000\n",
       "2025-01-23 11:45:00    27.000000\n",
       "2025-01-23 12:30:00    -7.800000\n",
       "2025-01-23 17:30:00    38.200000\n",
       "2025-01-23 18:30:00    29.200000\n",
       "2025-01-23 18:45:00     6.200000\n",
       "2025-01-23 19:30:00    26.600000\n",
       "2025-01-23 20:30:00    30.500000\n",
       "2025-01-23 21:00:00    13.200000\n",
       "2025-01-23 22:30:00     0.416667\n",
       "2025-01-23 23:00:00    17.168657\n",
       "2025-01-23 23:15:00    16.484536\n",
       "2025-01-23 23:30:00    14.750000\n",
       "2025-01-23 23:45:00    17.700000\n",
       "2025-01-24 00:00:00     9.000000\n",
       "2025-01-24 00:30:00    24.400000\n",
       "2025-01-24 01:45:00    23.600000\n",
       "Name: Temperature (°C), dtype: float64"
      ]
     },
     "execution_count": 21,
     "metadata": {},
     "output_type": "execute_result"
    }
   ],
   "source": [
    "temp_df_mean"
   ]
  },
  {
   "cell_type": "code",
   "execution_count": 23,
   "id": "a7d4208c-9897-436f-9f44-4c99ab6ecaf1",
   "metadata": {},
   "outputs": [
    {
     "name": "stdout",
     "output_type": "stream",
     "text": [
      "<class 'pandas.core.series.Series'>\n",
      "DatetimeIndex: 20 entries, 2025-01-20 00:00:00 to 2025-01-24 01:45:00\n",
      "Series name: Temperature (°C)\n",
      "Non-Null Count  Dtype  \n",
      "--------------  -----  \n",
      "20 non-null     float64\n",
      "dtypes: float64(1)\n",
      "memory usage: 320.0 bytes\n"
     ]
    }
   ],
   "source": [
    "temp_df_mean.info()"
   ]
  },
  {
   "cell_type": "code",
   "execution_count": 32,
   "id": "ae20dbc9-2dce-4e10-a1f4-fe4d90e7dcec",
   "metadata": {},
   "outputs": [
    {
     "data": {
      "text/plain": [
       "pandas.core.series.Series"
      ]
     },
     "execution_count": 32,
     "metadata": {},
     "output_type": "execute_result"
    }
   ],
   "source": [
    "type(temp_df_mean)"
   ]
  },
  {
   "cell_type": "code",
   "execution_count": 33,
   "id": "9c95c49a-54e8-4032-b7f5-aa175961ec80",
   "metadata": {},
   "outputs": [
    {
     "data": {
      "text/plain": [
       "<matplotlib.legend.Legend at 0x1a499bcbc80>"
      ]
     },
     "execution_count": 33,
     "metadata": {},
     "output_type": "execute_result"
    },
    {
     "data": {
      "image/png": "[encoded data removed]",
      "text/plain": [
       "<Figure size 1000x500 with 1 Axes>"
      ]
     },
     "metadata": {},
     "output_type": "display_data"
    }
   ],
   "source": [
    "plt.figure(figsize=(10, 5))\n",
    "temp_df_mean.plot(label='Original', alpha=0.5)\n",
    "# moving_av.plot(label='Moving Average', color='red')\n",
    "plt.xlabel('Date')\n",
    "plt.ylabel('Value')\n",
    "plt.title('Smooth Time Series Plot')\n",
    "plt.legend()"
   ]
  },
  {
   "cell_type": "code",
   "execution_count": 34,
   "id": "54e92f69-53ea-4112-af86-7dd0755b3328",
   "metadata": {},
   "outputs": [
    {
     "data": {
      "image/png": "[encoded data removed]",
      "text/plain": [
       "<Figure size 640x480 with 1 Axes>"
      ]
     },
     "metadata": {},
     "output_type": "display_data"
    }
   ],
   "source": [
    "# data = temp_df_mean\n",
    "# x = np.arange(len(data))\n",
    "\n",
    "# # Fit a polynomial (let's say degree 2) to the data\n",
    "# degree = 2\n",
    "# coefficients = np.polyfit(x, data, degree)\n",
    "\n",
    "# # Create a polynomial object\n",
    "# poly = np.poly1d(coefficients)\n",
    "\n",
    "# # Generate a smooth line for the polynomial\n",
    "# x_poly = np.linspace(x.min(), x.max(), 100)\n",
    "# y_poly = poly(x_poly)\n",
    "\n",
    "# # Plot the data points and the polynomial fit\n",
    "# plt.scatter(x, data, color='red', label='Data points')\n",
    "# plt.plot(x_poly, y_poly, label=f'Polynomial degree {degree}', color='blue')\n",
    "# plt.xlabel('x')\n",
    "# plt.ylabel('y')\n",
    "# plt.title('Polynomial Fit to Series Data')\n",
    "# plt.legend()\n",
    "# plt.grid(True)\n",
    "# plt.show()"
   ]
  },
  {
   "cell_type": "code",
   "execution_count": null,
   "id": "51480ab1-9585-4464-882f-3e317b07f591",
   "metadata": {},
   "outputs": [],
   "source": []
  }
 ],
 "metadata": {
  "kernelspec": {
   "display_name": "Python 3 (ipykernel)",
   "language": "python",
   "name": "python3"
  },
  "language_info": {
   "codemirror_mode": {
    "name": "ipython",
    "version": 3
   },
   "file_extension": ".py",
   "mimetype": "text/x-python",
   "name": "python",
   "nbconvert_exporter": "python",
   "pygments_lexer": "ipython3",
   "version": "3.12.7"
  }
 },
 "nbformat": 4,
 "nbformat_minor": 5
}

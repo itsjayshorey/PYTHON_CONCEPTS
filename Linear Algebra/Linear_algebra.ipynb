{
 "cells": [
  {
   "cell_type": "code",
   "execution_count": 1,
   "id": "d80635a6-fbbf-418f-bd22-d9c82ff575be",
   "metadata": {},
   "outputs": [],
   "source": [
    "import numpy as np"
   ]
  },
  {
   "cell_type": "code",
   "execution_count": 2,
   "id": "b5d578d3-30e9-4623-ad05-9f26e7cf4acf",
   "metadata": {},
   "outputs": [],
   "source": [
    "a = np.array((3,4,5))"
   ]
  },
  {
   "cell_type": "code",
   "execution_count": 3,
   "id": "31843b60-0cc0-4835-8b62-266a3b4470ff",
   "metadata": {},
   "outputs": [],
   "source": [
    "b = np.array((6,7,8))"
   ]
  },
  {
   "cell_type": "code",
   "execution_count": 5,
   "id": "e2a6a4b9-defe-4b10-b7ec-8edd3c7c30b6",
   "metadata": {},
   "outputs": [
    {
     "name": "stdout",
     "output_type": "stream",
     "text": [
      "86\n"
     ]
    }
   ],
   "source": [
    "print(np.dot(a,b))"
   ]
  },
  {
   "cell_type": "code",
   "execution_count": 6,
   "id": "5235df2c-9dfc-4f21-9303-f87224f74058",
   "metadata": {},
   "outputs": [],
   "source": [
    "x = np.matrix([[1,2,3,4],[5,6,7,8],[2,3,4,5],[6,7,8,9]])"
   ]
  },
  {
   "cell_type": "code",
   "execution_count": 7,
   "id": "c5170214-ebf2-4607-b2a8-2d8bd62973c2",
   "metadata": {},
   "outputs": [
    {
     "data": {
      "text/plain": [
       "(4, 4)"
      ]
     },
     "execution_count": 7,
     "metadata": {},
     "output_type": "execute_result"
    }
   ],
   "source": [
    "x.shape"
   ]
  },
  {
   "cell_type": "code",
   "execution_count": 8,
   "id": "c4809308-7c94-43ee-afc8-b8d3210b77b5",
   "metadata": {},
   "outputs": [],
   "source": [
    "k = np.matrix([[1,2,3],[4,5,6]])"
   ]
  },
  {
   "cell_type": "code",
   "execution_count": 9,
   "id": "db6c0d8d-da9d-428f-a557-a60368b2128b",
   "metadata": {},
   "outputs": [],
   "source": [
    "m = np.matrix([[7,9,11],[8,10,12]])"
   ]
  },
  {
   "cell_type": "code",
   "execution_count": 10,
   "id": "91a2b165-9245-4b93-bf5f-512945166600",
   "metadata": {},
   "outputs": [],
   "source": [
    "m=m.T"
   ]
  },
  {
   "cell_type": "code",
   "execution_count": 11,
   "id": "428a5d92-b8eb-43bc-af6c-2958dd602ce7",
   "metadata": {},
   "outputs": [
    {
     "data": {
      "text/plain": [
       "matrix([[ 7,  8],\n",
       "        [ 9, 10],\n",
       "        [11, 12]])"
      ]
     },
     "execution_count": 11,
     "metadata": {},
     "output_type": "execute_result"
    }
   ],
   "source": [
    "m"
   ]
  },
  {
   "cell_type": "code",
   "execution_count": 12,
   "id": "fb48faed-8400-491b-90ed-f9b0f8fd868b",
   "metadata": {},
   "outputs": [
    {
     "data": {
      "text/plain": [
       "matrix([[ 58,  64],\n",
       "        [139, 154]])"
      ]
     },
     "execution_count": 12,
     "metadata": {},
     "output_type": "execute_result"
    }
   ],
   "source": [
    "k*m"
   ]
  },
  {
   "cell_type": "markdown",
   "id": "94d3f272-166c-4269-a4e5-4946d7c141b5",
   "metadata": {},
   "source": [
    "## PART-2"
   ]
  },
  {
   "cell_type": "code",
   "execution_count": null,
   "id": "38e5c022-38f5-4432-b66b-84804a233a97",
   "metadata": {},
   "outputs": [],
   "source": []
  },
  {
   "cell_type": "code",
   "execution_count": 13,
   "id": "f71e274a-d284-40c9-b92c-ba82ae9e7197",
   "metadata": {},
   "outputs": [],
   "source": [
    "x = np.matrix([[1,3,1],[2,2,1],[3,5,3]])"
   ]
  },
  {
   "cell_type": "code",
   "execution_count": 14,
   "id": "4e9a5cd1-2a65-42ff-9c50-f156c82a617d",
   "metadata": {},
   "outputs": [
    {
     "data": {
      "text/plain": [
       "matrix([[1, 3, 1],\n",
       "        [2, 2, 1],\n",
       "        [3, 5, 3]])"
      ]
     },
     "execution_count": 14,
     "metadata": {},
     "output_type": "execute_result"
    }
   ],
   "source": [
    "x"
   ]
  },
  {
   "cell_type": "code",
   "execution_count": 17,
   "id": "9754fb9a-7a98-4abf-b28b-aed92f1eb49b",
   "metadata": {},
   "outputs": [
    {
     "data": {
      "text/plain": [
       "(3, 3)"
      ]
     },
     "execution_count": 17,
     "metadata": {},
     "output_type": "execute_result"
    }
   ],
   "source": [
    "x.shape"
   ]
  },
  {
   "cell_type": "code",
   "execution_count": 19,
   "id": "7eaac227-2b9e-4ec8-a4e6-e0b26610d0d7",
   "metadata": {},
   "outputs": [
    {
     "data": {
      "text/plain": [
       "3"
      ]
     },
     "execution_count": 19,
     "metadata": {},
     "output_type": "execute_result"
    }
   ],
   "source": [
    "np.linalg.matrix_rank(x)"
   ]
  },
  {
   "cell_type": "code",
   "execution_count": 20,
   "id": "b56b29b4-8dd0-443b-b934-00282ec6575f",
   "metadata": {},
   "outputs": [],
   "source": [
    "x = np.matrix([[1,2,3],[3,2,1],[1,1,1]])"
   ]
  },
  {
   "cell_type": "code",
   "execution_count": 21,
   "id": "c9a2a86c-7a52-41fc-aff0-4d1200b35f86",
   "metadata": {},
   "outputs": [
    {
     "data": {
      "text/plain": [
       "2"
      ]
     },
     "execution_count": 21,
     "metadata": {},
     "output_type": "execute_result"
    }
   ],
   "source": [
    "np.linalg.matrix_rank(x)"
   ]
  },
  {
   "cell_type": "markdown",
   "id": "569e7241-8c9c-4219-8af7-32d27855afe2",
   "metadata": {},
   "source": [
    "# Going from 2D to nD : Part1"
   ]
  },
  {
   "cell_type": "code",
   "execution_count": null,
   "id": "093b755b-6624-4a6c-9238-4d41dfa054bc",
   "metadata": {},
   "outputs": [],
   "source": []
  }
 ],
 "metadata": {
  "kernelspec": {
   "display_name": "Python 3 (ipykernel)",
   "language": "python",
   "name": "python3"
  },
  "language_info": {
   "codemirror_mode": {
    "name": "ipython",
    "version": 3
   },
   "file_extension": ".py",
   "mimetype": "text/x-python",
   "name": "python",
   "nbconvert_exporter": "python",
   "pygments_lexer": "ipython3",
   "version": "3.12.7"
  }
 },
 "nbformat": 4,
 "nbformat_minor": 5
}
